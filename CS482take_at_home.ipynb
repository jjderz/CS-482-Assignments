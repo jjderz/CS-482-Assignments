{
  "cells": [
    {
      "cell_type": "markdown",
      "metadata": {
        "id": "lFrA5bsqghRG"
      },
      "source": [
        "# Midterm - Spring 2023\n",
        "\n",
        "## Problem 1: Take-at-home  (45 points total)\n",
        "\n",
        "You are applying for a position at the data science team of USDA and you are given data associated with determining appropriate parasite treatment of canines. The suggested treatment options are determined based on a **logistic regression** model that predicts if the canine is infected with a parasite. \n",
        "\n",
        "The data is given in the site: https://data.world/ehales/grls-parasite-study/workspace/file?filename=CBC_data.csv  and more specifically in the CBC_data.csv file. Login using you University Google account to access the data and the description that includes a paper on the study (**you dont need to read the paper to solve this problem**). Your target variable $y$ column is titled `parasite_status`. \n",
        "\n",
        "\n"
      ]
    },
    {
      "cell_type": "markdown",
      "metadata": {
        "id": "hVcaBhQughRP"
      },
      "source": [
        "### Question 1 - Feature Engineering (5 points)\n",
        "\n",
        "In this step you outline the following as potential features (this is a limited example - we can have many features as in your programming exercise below). \n",
        "\n",
        "Write the posterior probability expressions for logistic regression for the problem you are given to solve."
      ]
    },
    {
      "cell_type": "markdown",
      "metadata": {
        "id": "CfbOsJz4ghRR"
      },
      "source": [
        "$$p(y=1|\\mathbf{x},\\mathbf{w}) = \\frac{1}{1+\\exp(-\\mathbf{w}^T\\mathbf{x})}$$\n",
        "\n",
        "$$p(y=0|\\mathbf{x},\\mathbf{w}) = 1 - p(y=1|\\mathbf{x},\\mathbf{w}) = 1 - \\frac{1}{1+\\exp(-\\mathbf{w}^T\\mathbf{x})}$$"
      ]
    },
    {
      "cell_type": "markdown",
      "metadata": {
        "id": "TtdDbd9fghRS"
      },
      "source": [
        "\n",
        "\n",
        "### Question 2 - Decision Boundary (5 points)\n",
        "\n",
        "Write the expression for the decision boundary assuming that $p(y=1)=p(y=0)$. The decision boundary is the line that separates the two classes.\n",
        "\n",
        "\n",
        "\n"
      ]
    },
    {
      "cell_type": "markdown",
      "metadata": {
        "id": "6HvFaF9pghRT"
      },
      "source": [
        "$$Since:$$\n",
        "$$p(y=1|\\mathbf{x},\\mathbf{w}) + p(y=0|\\mathbf{x},\\mathbf{w}) = 1$$\n",
        "\n",
        "$$Then:$$\n",
        "$$\\sigma(\\mathbf{w}^T\\mathbf{x}) = \\frac{1}{2}$$\n",
        "\n",
        "$$So:$$\n",
        "$$\\mathbf{w}^T\\mathbf{x}=0$$"
      ]
    },
    {
      "cell_type": "markdown",
      "metadata": {
        "id": "jQFJI_J-ghRT"
      },
      "source": [
        "\n",
        "\n",
        "### Question 3 - Loss function (5 points)\n",
        "\n",
        "Write the expression of the loss as a function of $\\mathbf w$ that makes sense for you to use in this problem. \n",
        "\n",
        "NOTE: The loss will be a function that will include this function: \n",
        "\n",
        "$$\\sigma(a) = \\frac{1}{1+e^{-a}}$$\n",
        "\n"
      ]
    },
    {
      "cell_type": "markdown",
      "metadata": {
        "id": "NObW_orIghRU"
      },
      "source": [
        "$$L{CE} = -\\frac{1}{m} * \\sum{i=1}^m y{i}*log(σ(w^Tx{i}))+(1-y{i})*log(1-σ(w^Tx{i})$$\n"
      ]
    },
    {
      "cell_type": "markdown",
      "metadata": {
        "id": "ghADruabghRV"
      },
      "source": [
        "\n",
        "### Question 4 - Gradient (5 points)\n",
        "\n",
        "Write the expression of the gradient of the loss with respect to the parameters - show all your work.\n",
        "\n"
      ]
    },
    {
      "cell_type": "markdown",
      "metadata": {
        "id": "KgNOt9VGghRW"
      },
      "source": [
        "$$\\nabla_w L_{CE} = \\frac{1}{m} \\sum_{i=1}^m \\nabla_w l(y_i, \\hat{y}^i)$$\n",
        "\n",
        "\n",
        "\n"
      ]
    },
    {
      "cell_type": "markdown",
      "metadata": {
        "id": "fp6PJK27ghRW"
      },
      "source": [
        "### Question 5 - Imbalanced dataset (10 points)\n",
        "\n",
        "You are now told that in the dataset  \n",
        "\n",
        "$$p(y=0) >> p(y=1)$$\n",
        "\n",
        "Can you comment if the accuracy of Logistic Regression will be affected by such imbalance?\n",
        "\n"
      ]
    },
    {
      "cell_type": "markdown",
      "metadata": {
        "id": "k8of6xQXghRX"
      },
      "source": [
        "The accuracy will be affect by the imbalance. If p(y=0) is significantly larger the model will bias itself towards predicting that as it's data points. Given this imbalance the model should be able to predict the majority class accurately p(y=0) but the minority class inacurrately p(y=1). Given this accuracy may be high but it is not a good metric to evaluate the model. "
      ]
    },
    {
      "cell_type": "markdown",
      "metadata": {
        "id": "02wtMD1IghRX"
      },
      "source": [
        "\n",
        "### Question 6 - SGD (15 points)\n",
        "\n",
        "The interviewer was impressed with your answers and wants to test your programming skills. \n",
        "\n",
        "1. Use the dataset to train a logistic regressor that will predict the target variable $y$. \n",
        "\n",
        " 2. Report the harmonic mean of precision (p) and recall (r) i.e the  [metric called $F_1$ score](https://en.wikipedia.org/wiki/F-score) that is calculated as shown below using a test dataset that is 20% of each group. Plot the $F_1$ score vs the iteration number  $t$. \n",
        "\n",
        "$$F_1 = \\frac{2}{r^{-1} + p^{-1}}$$\n",
        "\n",
        "Your code includes hyperparameter optimization of the learning rate and mini batch size. Please learn about cross validation which is a splitting strategy for tuning models [here](https://scikit-learn.org/stable/modules/cross_validation.html).\n",
        "\n",
        "You are allowed to use any library you want to code this problem.\n",
        "\n"
      ]
    },
    {
      "cell_type": "code",
      "execution_count": 1,
      "metadata": {
        "colab": {
          "base_uri": "https://localhost:8080/",
          "height": 314
        },
        "id": "AfsrcoxmghRY",
        "outputId": "649eb410-963f-4635-eb66-7b1d6733b919"
      },
      "outputs": [
        {
          "output_type": "stream",
          "name": "stdout",
          "text": [
            "Best hyperparameters: {'alpha': 0.001, 'eta0': 0.01, 'learning_rate': 'constant'}\n",
            "F1 score: 0.5268176172733352\n"
          ]
        },
        {
          "output_type": "display_data",
          "data": {
            "text/plain": [
              "<Figure size 432x288 with 1 Axes>"
            ],
            "image/png": "[encoded data removed]"
          },
          "metadata": {
            "needs_background": "light"
          }
        }
      ],
      "source": [
        "import pandas as pd\n",
        "import numpy as np\n",
        "from sklearn.model_selection import train_test_split\n",
        "from sklearn.linear_model import SGDClassifier\n",
        "from sklearn.model_selection import GridSearchCV\n",
        "from sklearn.metrics import f1_score\n",
        "from sklearn.model_selection import validation_curve\n",
        "import matplotlib.pyplot as plt\n",
        "import warnings\n",
        "warnings.filterwarnings('ignore')\n",
        "\n",
        "data = pd.read_csv(\"https://query.data.world/s/hjk3fzrxfshphohwzgnve72r6ntout\")\n",
        "data = data.apply(lambda x: pd.factorize(x)[0])\n",
        "\n",
        "# Split the data into training and testing sets using train_test_split()\n",
        "x_train, x_test, y_train, y_test = train_test_split(\n",
        "    data.drop([\"ID\", \"PARASITE_STATUS\"], axis=1),\n",
        "    data[\"PARASITE_STATUS\"],\n",
        "    test_size=0.2,\n",
        "    stratify=data[\"PARASITE_STATUS\"],\n",
        "    random_state=42,\n",
        ")\n",
        "\n",
        "# Set up of a dictionary of hyperparameters to be tuned using GridSearchCV\n",
        "#alpha: regularization strength\n",
        "#eat0: learning rate\n",
        "#learning rate: update rules for learning rate\n",
        "p_grid = {\n",
        "    'alpha': [1e-05, 1e-04, 1e-03], \n",
        "    'eta0': [0.01, 0.1, 1],\n",
        "    'learning_rate': ['constant', 'optimal', 'invscaling']\n",
        "}\n",
        "\n",
        "# Initialization of the Stochastic Gradient Descent classifier\n",
        "classifier = SGDClassifier(loss='log')\n",
        "\n",
        "# Use GridSearchCV to find the best hyperparameters\n",
        "#CV: number of folds in the cross-validation process\n",
        "#Scoring: specifies the evaluation metric\n",
        "g_search = GridSearchCV(classifier, param_grid=p_grid, cv=5, scoring='f1_macro')\n",
        "g_search.fit(x_train, y_train)\n",
        "\n",
        "# Get the best hyperparameters and test F1 score\n",
        "best_classifier = g_search.best_estimator_\n",
        "y_pred = best_classifier.predict(x_test)\n",
        "f1 = f1_score(y_test, y_pred, average='macro')\n",
        "print('Best hyperparameters:', g_search.best_params_)\n",
        "print('F1 score:', f1)\n",
        "\n",
        "# Plot the training and cross-validation F1 scores\n",
        "iteration_range = [10, 50, 100, 500, 1000, 2000]\n",
        "train_scores, test_scores = validation_curve(\n",
        "    best_classifier, x_train, y_train, param_name='max_iter', param_range=iteration_range,\n",
        "    scoring='f1_macro', cv=5\n",
        ")\n",
        "plt.plot(iteration_range, np.mean(train_scores, axis=1), label='Training score')\n",
        "plt.plot(iteration_range, np.mean(test_scores, axis=1), label='Cross-validation score')\n",
        "plt.xlabel('Iteration')\n",
        "plt.ylabel('F1 score')\n",
        "plt.legend()\n",
        "plt.show()\n"
      ]
    }
  ],
  "metadata": {
    "kernelspec": {
      "display_name": "ai-course",
      "language": "python",
      "name": "python3"
    },
    "language_info": {
      "name": "python",
      "version": "3.10.8"
    },
    "orig_nbformat": 4,
    "vscode": {
      "interpreter": {
        "hash": "62556f7a043365a66e0918c892755cfafede529a87e97207556f006a109bade4"
      }
    },
    "colab": {
      "provenance": []
    }
  },
  "nbformat": 4,
  "nbformat_minor": 0
}