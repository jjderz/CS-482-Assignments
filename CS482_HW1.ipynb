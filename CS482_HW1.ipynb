{
  "cells": [
    {
      "cell_type": "markdown",
      "metadata": {
        "id": "Kn_rMVCLRF5f"
      },
      "source": [
        "# Probability Assignment"
      ]
    },
    {
      "cell_type": "markdown",
      "metadata": {
        "id": "yUuUyNV6RF5j"
      },
      "source": [
        "To get full credit in this assignment you need to use only `numpy` or `jax` libraries  and include adequate explanation of the code in either markdown cells or code comments. Sometimes you need to type equations - type equations in latex math notation. \n",
        "\n",
        "PS: Please note that we run through chatGPT the questions and you will be referred to the Dean if we find that a robot answered your questions. ."
      ]
    },
    {
      "cell_type": "markdown",
      "metadata": {
        "id": "VtRG2GLERF5j"
      },
      "source": [
        "## Question 1a (10 points)\n",
        "\n",
        "In a private subreddit people are posting their opinions on the CEO of the company you work for. Lets assume that the employees that are posting are random logging in to that subreddit and that each post indicates whether the employee approves or not the job that the CEO is doing. Let $x_i$ be the binary random variable where $x_i=1$ indicates approval. You can assume that $x$ is distributed according to a Bernoulli distribution with parameter $p=1/2$.\n",
        "\n",
        "Your job is to sample $n=50$ posts and estimate the approval rate of the CEO by considering the statistics of $y=x_1+x_2+ \\dots + x_n$. What is the probability that 25 employees approve the CEO?\n",
        "\n",
        "## Question 1b (10 points)\n",
        "\n",
        "Following your findings in Q1a, read about the [Cenral Limit Theorem](https://en.wikipedia.org/wiki/Central_limit_theorem) and recognize that \n",
        "\n",
        "$$z=\\frac{y-\\mu_y}{\\sigma_y}$$ \n",
        "\n",
        "is normally distributed with mean 0 and variance 1.\n",
        "\n",
        "Can you find the  probability that 25 employees approve the CEO using the Gaussian approximation?\n"
      ]
    },
    {
      "cell_type": "markdown",
      "source": [
        "0.11227517265921705\n",
        "\n",
        "0.843118853945781"
      ],
      "metadata": {
        "id": "UKshcVayBQBS"
      }
    },
    {
      "cell_type": "markdown",
      "source": [
        "Question 1a"
      ],
      "metadata": {
        "id": "SdMDSFQU699R"
      }
    },
    {
      "cell_type": "code",
      "source": [
        "import numpy as np\n",
        "\n",
        "n = 50\n",
        "\n",
        "p = 0.5\n",
        "\n",
        "ans = np.math.comb(n, 25) * (p ** 25) * ((1-p) ** (n-25))\n",
        "\n",
        "ans"
      ],
      "metadata": {
        "colab": {
          "base_uri": "https://localhost:8080/"
        },
        "id": "rpE_F5vRboFL",
        "outputId": "b837d110-bb80-4872-af15-362588976def"
      },
      "execution_count": null,
      "outputs": [
        {
          "output_type": "execute_result",
          "data": {
            "text/plain": [
              "0.11227517265921705"
            ]
          },
          "metadata": {},
          "execution_count": 1
        }
      ]
    },
    {
      "cell_type": "markdown",
      "source": [
        "Question 1b"
      ],
      "metadata": {
        "id": "rbKwrb6h7NNJ"
      }
    },
    {
      "cell_type": "code",
      "source": [
        "import numpy as np\n",
        "\n",
        "mean = 20\n",
        "std = 5\n",
        "y = 25\n",
        "z = (y - mean) / std\n",
        "\n",
        "prob = 0.5 * (1 + np.sign(z) * np.sqrt(1 - np.exp(-2 * z ** 2 / np.pi)))\n",
        "\n",
        "prob"
      ],
      "metadata": {
        "colab": {
          "base_uri": "https://localhost:8080/"
        },
        "id": "4-6qpD717Vtk",
        "outputId": "eedf56cc-c8b1-454c-a01b-3a15a600ea86"
      },
      "execution_count": null,
      "outputs": [
        {
          "output_type": "execute_result",
          "data": {
            "text/plain": [
              "0.843118853945781"
            ]
          },
          "metadata": {},
          "execution_count": 2
        }
      ]
    },
    {
      "cell_type": "markdown",
      "metadata": {
        "id": "vM1dWNngRF5l"
      },
      "source": [
        "## Question 2 (20 points)\n",
        "\n",
        "A sequential experiment involves repeatedly drawing a ball from one of the two urns, noting the number on the ball and replacing the ball in the urn. Urn 0 contains a ball with the number 0 and two balls with the number 1. Urn 1 contains five balls with the number 0 and one ball with the number 1. \n",
        "\n",
        "The urn from which the first ball is drawn is selected by flipping a fair coin. Urn 0 is used if the outcome is H and urn 1 is used if the outcome is T. **The urn used in a subsequent draws corresponds to the number on the ball drawn in the previous draw.** \n",
        "\n",
        "What is the probability of a specific sequence of the numbers on drawn balls being 0011 ? "
      ]
    },
    {
      "cell_type": "markdown",
      "metadata": {
        "id": "_e_a2OOoRF5l"
      },
      "source": [
        "Type the answer here using the [latex syntax](https://wch.github.io/latexsheet/) or handwrite the answer, upload the picture in the same folder and use a new markdown cell with markdown syntax `![title](image_name.png)`\n",
        "\n",
        "P(0011) = P(H) * P(0|H) * P(0|0) * P(1|0) * P(1|1) + P(T) * P(0|T) * P(0|0) * P(1|0) * P(1|1) = \n",
        "(1/2) * (1/3) * (1/3) * (2/3) * (2/3) + (1/2) * (5/6) * (1/3) * (2/3) * (1/6) = \n",
        "(1/18) + (5/72) \n",
        "= 7/36"
      ]
    },
    {
      "cell_type": "markdown",
      "metadata": {
        "id": "uIXXkkFgRF5m"
      },
      "source": [
        "## Question 3 (20 points) \n",
        "\n",
        "Referring to Example 6.6 of the  [Math for ML book](https://mml-book.github.io/book/mml-book.pdf), simulate and plot the bivariate normal distribution with the shown parameters using the [Cholesky factorization](https://numpy.org/doc/stable/reference/generated/numpy.linalg.cholesky.html) for the simulation. \n"
      ]
    },
    {
      "cell_type": "code",
      "execution_count": null,
      "metadata": {
        "id": "6ssMrduvRF5m"
      },
      "outputs": [],
      "source": [
        "# Type the Python code here and ensure you save the notebook with the results of the code execution."
      ]
    },
    {
      "cell_type": "markdown",
      "metadata": {
        "id": "3ZEKvQOXRF5n"
      },
      "source": [
        "## Question 4 (20 points)\n",
        "\n",
        "Go through the provided links on [Poisson](https://dlsun.github.io/probability/poisson.html) and [exponential distributions](https://dlsun.github.io/probability/exponential.html) as the `Math for ML` textbook in your course site  is not covering enough these important distributions.\n",
        "\n",
        "Watch this video https://www.youtube.com/watch?v=Asto3RS46ks where the author is explaining how to simulate a Poisson distribution from scratch. \n",
        "\n",
        "1. Using the Kaggle API download [this dataset](https://www.kaggle.com/datasets/new-york-city/nyc-east-river-bicycle-crossings) and plot the histogram of the number of cyclists that cross the Brooklyn bridge per day.  \n",
        "2. Simulate the number of cyclists that cross the Brooklyn bridge per day using the Poisson distribution. Ensure that the simulated counts are similar distribution-wise to the observed counts.\n"
      ]
    },
    {
      "cell_type": "code",
      "execution_count": 22,
      "metadata": {
        "id": "RShIzAI5RF5o",
        "colab": {
          "base_uri": "https://localhost:8080/",
          "height": 439
        },
        "outputId": "8dc4ef33-0c02-468d-ca8d-fb2b4a4ba0ef"
      },
      "outputs": [
        {
          "output_type": "display_data",
          "data": {
            "text/plain": [
              "<IPython.core.display.HTML object>"
            ],
            "text/html": [
              "\n",
              "     <input type=\"file\" id=\"files-89bb6790-b52d-4d3a-b4cb-25b0d0d267cd\" name=\"files[]\" multiple disabled\n",
              "        style=\"border:none\" />\n",
              "     <output id=\"result-89bb6790-b52d-4d3a-b4cb-25b0d0d267cd\">\n",
              "      Upload widget is only available when the cell has been executed in the\n",
              "      current browser session. Please rerun this cell to enable.\n",
              "      </output>\n",
              "      <script>// Copyright 2017 Google LLC\n",
              "//\n",
              "// Licensed under the Apache License, Version 2.0 (the \"License\");\n",
              "// you may not use this file except in compliance with the License.\n",
              "// You may obtain a copy of the License at\n",
              "//\n",
              "//      http://www.apache.org/licenses/LICENSE-2.0\n",
              "//\n",
              "// Unless required by applicable law or agreed to in writing, software\n",
              "// distributed under the License is distributed on an \"AS IS\" BASIS,\n",
              "// WITHOUT WARRANTIES OR CONDITIONS OF ANY KIND, either express or implied.\n",
              "// See the License for the specific language governing permissions and\n",
              "// limitations under the License.\n",
              "\n",
              "/**\n",
              " * @fileoverview Helpers for google.colab Python module.\n",
              " */\n",
              "(function(scope) {\n",
              "function span(text, styleAttributes = {}) {\n",
              "  const element = document.createElement('span');\n",
              "  element.textContent = text;\n",
              "  for (const key of Object.keys(styleAttributes)) {\n",
              "    element.style[key] = styleAttributes[key];\n",
              "  }\n",
              "  return element;\n",
              "}\n",
              "\n",
              "// Max number of bytes which will be uploaded at a time.\n",
              "const MAX_PAYLOAD_SIZE = 100 * 1024;\n",
              "\n",
              "function _uploadFiles(inputId, outputId) {\n",
              "  const steps = uploadFilesStep(inputId, outputId);\n",
              "  const outputElement = document.getElementById(outputId);\n",
              "  // Cache steps on the outputElement to make it available for the next call\n",
              "  // to uploadFilesContinue from Python.\n",
              "  outputElement.steps = steps;\n",
              "\n",
              "  return _uploadFilesContinue(outputId);\n",
              "}\n",
              "\n",
              "// This is roughly an async generator (not supported in the browser yet),\n",
              "// where there are multiple asynchronous steps and the Python side is going\n",
              "// to poll for completion of each step.\n",
              "// This uses a Promise to block the python side on completion of each step,\n",
              "// then passes the result of the previous step as the input to the next step.\n",
              "function _uploadFilesContinue(outputId) {\n",
              "  const outputElement = document.getElementById(outputId);\n",
              "  const steps = outputElement.steps;\n",
              "\n",
              "  const next = steps.next(outputElement.lastPromiseValue);\n",
              "  return Promise.resolve(next.value.promise).then((value) => {\n",
              "    // Cache the last promise value to make it available to the next\n",
              "    // step of the generator.\n",
              "    outputElement.lastPromiseValue = value;\n",
              "    return next.value.response;\n",
              "  });\n",
              "}\n",
              "\n",
              "/**\n",
              " * Generator function which is called between each async step of the upload\n",
              " * process.\n",
              " * @param {string} inputId Element ID of the input file picker element.\n",
              " * @param {string} outputId Element ID of the output display.\n",
              " * @return {!Iterable<!Object>} Iterable of next steps.\n",
              " */\n",
              "function* uploadFilesStep(inputId, outputId) {\n",
              "  const inputElement = document.getElementById(inputId);\n",
              "  inputElement.disabled = false;\n",
              "\n",
              "  const outputElement = document.getElementById(outputId);\n",
              "  outputElement.innerHTML = '';\n",
              "\n",
              "  const pickedPromise = new Promise((resolve) => {\n",
              "    inputElement.addEventListener('change', (e) => {\n",
              "      resolve(e.target.files);\n",
              "    });\n",
              "  });\n",
              "\n",
              "  const cancel = document.createElement('button');\n",
              "  inputElement.parentElement.appendChild(cancel);\n",
              "  cancel.textContent = 'Cancel upload';\n",
              "  const cancelPromise = new Promise((resolve) => {\n",
              "    cancel.onclick = () => {\n",
              "      resolve(null);\n",
              "    };\n",
              "  });\n",
              "\n",
              "  // Wait for the user to pick the files.\n",
              "  const files = yield {\n",
              "    promise: Promise.race([pickedPromise, cancelPromise]),\n",
              "    response: {\n",
              "      action: 'starting',\n",
              "    }\n",
              "  };\n",
              "\n",
              "  cancel.remove();\n",
              "\n",
              "  // Disable the input element since further picks are not allowed.\n",
              "  inputElement.disabled = true;\n",
              "\n",
              "  if (!files) {\n",
              "    return {\n",
              "      response: {\n",
              "        action: 'complete',\n",
              "      }\n",
              "    };\n",
              "  }\n",
              "\n",
              "  for (const file of files) {\n",
              "    const li = document.createElement('li');\n",
              "    li.append(span(file.name, {fontWeight: 'bold'}));\n",
              "    li.append(span(\n",
              "        `(${file.type || 'n/a'}) - ${file.size} bytes, ` +\n",
              "        `last modified: ${\n",
              "            file.lastModifiedDate ? file.lastModifiedDate.toLocaleDateString() :\n",
              "                                    'n/a'} - `));\n",
              "    const percent = span('0% done');\n",
              "    li.appendChild(percent);\n",
              "\n",
              "    outputElement.appendChild(li);\n",
              "\n",
              "    const fileDataPromise = new Promise((resolve) => {\n",
              "      const reader = new FileReader();\n",
              "      reader.onload = (e) => {\n",
              "        resolve(e.target.result);\n",
              "      };\n",
              "      reader.readAsArrayBuffer(file);\n",
              "    });\n",
              "    // Wait for the data to be ready.\n",
              "    let fileData = yield {\n",
              "      promise: fileDataPromise,\n",
              "      response: {\n",
              "        action: 'continue',\n",
              "      }\n",
              "    };\n",
              "\n",
              "    // Use a chunked sending to avoid message size limits. See b/62115660.\n",
              "    let position = 0;\n",
              "    do {\n",
              "      const length = Math.min(fileData.byteLength - position, MAX_PAYLOAD_SIZE);\n",
              "      const chunk = new Uint8Array(fileData, position, length);\n",
              "      position += length;\n",
              "\n",
              "      const base64 = btoa(String.fromCharCode.apply(null, chunk));\n",
              "      yield {\n",
              "        response: {\n",
              "          action: 'append',\n",
              "          file: file.name,\n",
              "          data: base64,\n",
              "        },\n",
              "      };\n",
              "\n",
              "      let percentDone = fileData.byteLength === 0 ?\n",
              "          100 :\n",
              "          Math.round((position / fileData.byteLength) * 100);\n",
              "      percent.textContent = `${percentDone}% done`;\n",
              "\n",
              "    } while (position < fileData.byteLength);\n",
              "  }\n",
              "\n",
              "  // All done.\n",
              "  yield {\n",
              "    response: {\n",
              "      action: 'complete',\n",
              "    }\n",
              "  };\n",
              "}\n",
              "\n",
              "scope.google = scope.google || {};\n",
              "scope.google.colab = scope.google.colab || {};\n",
              "scope.google.colab._files = {\n",
              "  _uploadFiles,\n",
              "  _uploadFilesContinue,\n",
              "};\n",
              "})(self);\n",
              "</script> "
            ]
          },
          "metadata": {}
        },
        {
          "output_type": "stream",
          "name": "stdout",
          "text": [
            "Saving kaggle.json to kaggle (10).json\n",
            "mkdir: cannot create directory ‘/root/.kaggle’: File exists\n",
            "nyc-east-river-bicycle-crossings.zip: Skipping, found more recently modified local copy (use --force to force download)\n",
            "Archive:  /content/nyc-east-river-bicycle-crossings.zip\n",
            "replace nyc-east-river-bicycle-counts.csv? [y]es, [n]o, [A]ll, [N]one, [r]ename: y\n",
            "  inflating: nyc-east-river-bicycle-counts.csv  \n",
            "Invalid folder: /content/nyc-east-river-bicycle-counts.csv\n"
          ]
        },
        {
          "output_type": "display_data",
          "data": {
            "text/plain": [
              "<Figure size 432x288 with 1 Axes>"
            ],
            "image/png": "[encoded data removed]"
          },
          "metadata": {
            "needs_background": "light"
          }
        }
      ],
      "source": [
        "import numpy as np\n",
        "import matplotlib.pyplot as plt\n",
        "import pandas as pd\n",
        "\n",
        "! pip install -q kaggle\n",
        "from google.colab import files\n",
        "files.upload()\n",
        "! mkdir ~/.kaggle\n",
        "! cp kaggle.json ~/.kaggle/\n",
        "! chmod 600 ~/.kaggle/kaggle.json\n",
        "\n",
        "! kaggle datasets download new-york-city/nyc-east-river-bicycle-crossings\n",
        "! unzip /content/nyc-east-river-bicycle-crossings\n",
        "! kaggle datasets init -p '/content/nyc-east-river-bicycle-counts.csv'\n",
        "\n",
        "crossings = pd.read_csv('/content/nyc-east-river-bicycle-counts.csv')\n",
        "crossings.columns = [c.replace(' ', '_') for c in crossings.columns]\n",
        "# crossings.hist('Brooklyn_Bridge')\n",
        "observed_counts = crossings['Brooklyn_Bridge']\n",
        "mean = np.mean(observed_counts)\n",
        "simulated_counts = np.random.poisson(mean, len(observed_counts))\n",
        "\n",
        "plt.hist(observed_counts, bins=20, alpha=0.5, label=\"Observed Counts\")\n",
        "plt.hist(simulated_counts, bins=20, alpha=0.5, label=\"Simulated Counts\")\n",
        "\n",
        "plt.xlabel(\"Number of Cyclists\")\n",
        "plt.ylabel(\"Frequency\")\n",
        "plt.legend()\n",
        "\n",
        "plt.show()\n",
        "\n"
      ]
    },
    {
      "cell_type": "markdown",
      "metadata": {
        "id": "zMUbPGQ4RF5o"
      },
      "source": [
        "# Question 5 (20 points)\n",
        "\n",
        "You are asked to stress test an cloud API endpoint and are told that the API exposes a database server that can be abstracted as an M/M/1 queue. Go through [this introductory](https://queue-it.com/blog/queuing-theory/) page to just understand the queuing domain and the notation M/M/1. Go also through the elements of the MM1 queue [here](https://en.wikipedia.org/wiki/M/M/1_queue). Make sure you click on the links and learn about the random process called Poisson process. \n",
        "\n",
        "\n",
        "Your task is to simulate the behavior of the queue and plot the number of requests that are waiting in the queue as a function of time. You are given three arrival rates of the API requests $\\lambda=[1, 3, 4]$ and the service time of the requests as an exponential random variable with rate $\\mu=4$. \n",
        "\n",
        "   "
      ]
    },
    {
      "cell_type": "code",
      "execution_count": 3,
      "metadata": {
        "id": "HHT44k37RF5p",
        "colab": {
          "base_uri": "https://localhost:8080/",
          "height": 279
        },
        "outputId": "b4f96d93-40d3-4f61-9a19-ff324b375983"
      },
      "outputs": [
        {
          "output_type": "display_data",
          "data": {
            "text/plain": [
              "<Figure size 432x288 with 1 Axes>"
            ],
            "image/png": "[encoded data removed]"
          },
          "metadata": {
            "needs_background": "light"
          }
        }
      ],
      "source": [
        "import numpy as np\n",
        "import matplotlib.pyplot as plt\n",
        "\n",
        "lambdas = [1, 3, 4]\n",
        "mean = 4\n",
        "\n",
        "sim = 1000\n",
        "\n",
        "# Number of requests in the queue as a function of time\n",
        "queue_len = np.zeros((len(lambdas), sim))\n",
        "\n",
        "for i, lam in enumerate(lambdas):\n",
        "    time = 0\n",
        "    request = 0\n",
        "    while time < sim:\n",
        "        inter_arrival = np.random.exponential(scale=1/lam)\n",
        "        time += inter_arrival\n",
        "        if time < sim:\n",
        "            service_time = np.random.exponential(scale=1/mean)\n",
        "            request += 1\n",
        "            for t in range(int(time), int(time+service_time)):\n",
        "                if t < sim:\n",
        "                    queue_len[i][t] = max(request-1, 0)\n",
        "                    \n",
        "for i in range(len(lambdas)):\n",
        "    plt.plot(queue_len[i], label=f'λ = {lambdas[i]}')\n",
        "plt.legend()\n",
        "plt.xlabel('Time')\n",
        "plt.ylabel('Number of requests in queue')\n",
        "plt.show()"
      ]
    }
  ],
  "metadata": {
    "kernelspec": {
      "display_name": "Python 3.10.4 64-bit",
      "language": "python",
      "name": "python3"
    },
    "language_info": {
      "codemirror_mode": {
        "name": "ipython",
        "version": 3
      },
      "file_extension": ".py",
      "mimetype": "text/x-python",
      "name": "python",
      "nbconvert_exporter": "python",
      "pygments_lexer": "ipython3",
      "version": "3.10.6"
    },
    "orig_nbformat": 4,
    "vscode": {
      "interpreter": {
        "hash": "31f2aee4e71d21fbe5cf8b01ff0e069b9275f58929596ceb00d14d90e3e16cd6"
      }
    },
    "colab": {
      "provenance": []
    }
  },
  "nbformat": 4,
  "nbformat_minor": 0
}